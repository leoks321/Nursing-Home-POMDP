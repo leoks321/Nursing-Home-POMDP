{
  "cells": [
    {
      "cell_type": "code",
      "source": [
        "using POMDPs\n",
        "using Distributions: Normal, Uniform, DiscreteUniform, Multinomial, Hypergeometric, Binomial\n",
        "using Random\n",
        "using LinearAlgebra\n",
        "using Statistics\n",
        "using Plots\n",
        "import POMDPs: initialstate, gen, actions, discount, isterminal\n",
        "Random.seed!(1);"
      ],
      "outputs": [],
      "execution_count": 1,
      "metadata": {
        "collapsed": true,
        "jupyter": {
          "source_hidden": false,
          "outputs_hidden": false
        },
        "nteract": {
          "transient": {
            "deleting": false
          }
        },
        "execution": {
          "iopub.status.busy": "2020-12-08T20:16:27.824Z",
          "iopub.execute_input": "2020-12-08T20:16:28.243Z",
          "iopub.status.idle": "2020-12-08T20:16:42.330Z"
        }
      }
    },
    {
      "cell_type": "code",
      "source": [
        "mutable struct m <: POMDPs.POMDP{Array{Int64,1},Int,Int}  #initialize POMDP \n",
        "    discount_factor::Float64\n",
        "end\n",
        "m() = m(.95)\n",
        "discount(p::m) = p.discount_factor\n",
        "\n",
        "using POMDPModelTools \n",
        "actions(::m) = [1, 2]"
      ],
      "outputs": [
        {
          "output_type": "stream",
          "name": "stderr",
          "text": [
            "WARNING: using POMDPModelTools.Uniform in module Main conflicts with an existing identifier.\n"
          ]
        },
        {
          "output_type": "execute_result",
          "execution_count": 2,
          "data": {
            "text/plain": "actions (generic function with 11 methods)"
          },
          "metadata": {}
        }
      ],
      "execution_count": 2,
      "metadata": {
        "collapsed": true,
        "jupyter": {
          "source_hidden": false,
          "outputs_hidden": false
        },
        "nteract": {
          "transient": {
            "deleting": false
          }
        },
        "execution": {
          "iopub.status.busy": "2020-12-08T20:16:42.345Z",
          "iopub.execute_input": "2020-12-08T20:16:47.565Z",
          "iopub.status.idle": "2020-12-08T20:16:48.324Z"
        }
      }
    },
    {
      "cell_type": "code",
      "source": [
        "function gen(m::m, s::Array{Int64,1}, a::Int, rng::AbstractRNG) #function to generate (s,a) \\to (s',r)\n",
        "\n",
        "    if a == 1\n",
        "       sp = waitT(s)\n",
        "    end\n",
        "    if a == 2\n",
        "       sp = lockT(s)\n",
        "    end\n",
        "\n",
        "  \n",
        "    if a == 1\n",
        "    r = 10*s[1]+ -5 * s[2] + 10*s[3] - 50 * s[4] #reward for wait\n",
        "    end\n",
        "  \n",
        "    if a == 2\n",
        "    r =  -100 #reward forlockdown\n",
        "    end\n",
        "  \n",
        "    return (sp=sp, r=r)\n",
        "end;"
      ],
      "outputs": [],
      "execution_count": 3,
      "metadata": {
        "collapsed": true,
        "jupyter": {
          "source_hidden": false,
          "outputs_hidden": false
        },
        "nteract": {
          "transient": {
            "deleting": false
          }
        },
        "execution": {
          "iopub.status.busy": "2020-12-08T20:16:48.339Z",
          "iopub.execute_input": "2020-12-08T20:16:48.348Z",
          "iopub.status.idle": "2020-12-08T20:16:48.362Z"
        }
      }
    },
    {
      "cell_type": "code",
      "source": [
        "np = Uniform(0.3,0.6)\n",
        "function waitT(s::Array{Int64,1})  #state change if action \"wait\"\n",
        "c=3\n",
        "\n",
        "p= rand(np)\n",
        "ri = 0.05\n",
        "  \n",
        "A = zeros(Int8, s[1])\n",
        "  \n",
        "new_cases = 0\n",
        "if s[1] != 0 && s[2] !=0\n",
        "  for i = 1:s[2] #each infected person contacts c=3 people and infects them with probability p\n",
        "    for j = 1:c\n",
        "      ind = rand(1:s[1])\n",
        "      b = rand(Uniform(0,1)) < p\n",
        "      A[ind]= b ? 1 : A[ind]\n",
        "    end\n",
        "  end\n",
        " end\n",
        "if s[1] !=0\n",
        "  for i=1:s[1] #assume low chance of outside infection \n",
        "    a = rand(Uniform(0,1)) > ri \n",
        "    new_cases= !a ? new_cases+1 : new_cases+0\n",
        "  end\n",
        "end\n",
        " \n",
        "\n",
        "s2p = [0.2,0.5,0.25,0.05] #multinomial for infected people\n",
        "s2 = Multinomial(s[2],s2p)\n",
        "s2r = rand(s2)\n",
        "\n",
        "s3p = [0.0,0.02,0.98,0.0] #multinomial for immune people\n",
        "s3 = Multinomial(s[3],s3p)\n",
        "s3r = rand(s3)\n",
        "  \n",
        "\n",
        "n = min(s[1],new_cases + sum(A))\n",
        "s=  [s[1]-n + s2r[1],s2r[2] + n+s3r[2],s3r[3] + s2r[3] ,s[4] + s2r[4]+s3r[4]]\n",
        "return s\n",
        "  \n",
        "end"
      ],
      "outputs": [
        {
          "output_type": "execute_result",
          "execution_count": 4,
          "data": {
            "text/plain": "waitT (generic function with 1 method)"
          },
          "metadata": {}
        }
      ],
      "execution_count": 4,
      "metadata": {
        "collapsed": true,
        "jupyter": {
          "source_hidden": false,
          "outputs_hidden": false
        },
        "nteract": {
          "transient": {
            "deleting": false
          }
        },
        "execution": {
          "iopub.status.busy": "2020-12-08T20:16:48.382Z",
          "iopub.execute_input": "2020-12-08T20:16:48.391Z",
          "iopub.status.idle": "2020-12-08T20:16:48.424Z"
        }
      }
    },
    {
      "cell_type": "code",
      "source": [
        "function lockT(s::Array{Int64,1}) #state change if action \"lockdown\"\n",
        "\n",
        "ri = 0.02\n",
        "  new_cases = 0\n",
        "if s[1] !=0\n",
        "  for i=1:s[1]\n",
        "    a = rand(Uniform(0,1)) > ri\n",
        "    new_cases= !a ? new_cases+1 : new_cases+0\n",
        "  end\n",
        "end\n",
        " \n",
        "\n",
        "s2p = [0.2,0.5,0.25,0.05]\n",
        "s2 = Multinomial(s[2],s2p)\n",
        "s2r = rand(s2)\n",
        "\n",
        "s3p = [0.0,0.02,0.98,0.0]\n",
        "s3 = Multinomial(s[3],s3p)\n",
        "s3r = rand(s3)\n",
        "  \n",
        "\n",
        "n = min(s[1],new_cases)\n",
        "s=  [s[1]-n + s2r[1],s2r[2] + n+s3r[2],s3r[3] + s2r[3] ,s[4] + s2r[4]+s3r[4]]\n",
        "return s\n",
        "  \n",
        "end"
      ],
      "outputs": [
        {
          "output_type": "execute_result",
          "execution_count": 5,
          "data": {
            "text/plain": "lockT (generic function with 1 method)"
          },
          "metadata": {}
        }
      ],
      "execution_count": 5,
      "metadata": {
        "collapsed": true,
        "jupyter": {
          "source_hidden": false,
          "outputs_hidden": false
        },
        "nteract": {
          "transient": {
            "deleting": false
          }
        },
        "execution": {
          "iopub.status.busy": "2020-12-08T20:16:48.438Z",
          "iopub.execute_input": "2020-12-08T20:16:48.446Z",
          "iopub.status.idle": "2020-12-08T20:16:48.495Z"
        }
      }
    },
    {
      "cell_type": "code",
      "source": [
        "using Distributions\n",
        "\n",
        "function hyp(s::Array{Int64,1},sen::Float64,spe::Float64,smpl::Int,x::Int) #calculate PDF for observation distribution\n",
        "  #println(s[2])\n",
        "  #println(s[3])\n",
        "  #println(smpl)\n",
        "  if s[2] < 0\n",
        "    s[2]=0\n",
        "  end\n",
        "  h=Hypergeometric(s[2],s[1]+s[3],smpl)\n",
        "  \n",
        "    p=0\n",
        "    for i=0:min(smpl,d.s[2]) #get anywhere from 0 to min(m,inf) infected people\n",
        "        p = p + pdf(h,i) * bin(x,i,smpl-i,sen,spe) #probability if i infected people, times probability of x positives given i infected people\n",
        "    end\n",
        "    return p\n",
        "end\n",
        "function bin(t::Int, I::Int, NI::Int,sen::Float64,spe::Float64)\n",
        "  bI = Binomial(I,sen)\n",
        "  bNI = Binomial(NI,1-spe)\n",
        "  tp =0\n",
        "  for i=0:t\n",
        "    #println(i)\n",
        "    p = pdf(bI,i) * pdf(bNI,t-i)\n",
        "    #print(p)\n",
        "    tp = tp +p\n",
        "  end\n",
        "  return tp\n",
        "end\n",
        "\n",
        "function Obs(s::Array{Int64,1},sen::Float64,spe::Float64,smpl::Int) #generate observation in state s, sample size smpl, sensitivity sen and specificity spe\n",
        "  inf = 0\n",
        " \n",
        "  tinf = s[2]\n",
        "  tnotinf = s[1]+s[3]\n",
        "  \n",
        "  posit = 0\n",
        "  \n",
        "  for i=1:smpl\n",
        "    a = rand(Uniform(0,tinf+tnotinf))<tinf\n",
        "    inf = a ? inf+1 : inf+0\n",
        "    tinf = a ? tinf-1 : tinf+0\n",
        "    tnotinf = !a ? tnotinf-1 : tnotinf+0\n",
        "  end\n",
        "  for i=1:inf\n",
        "    posit = rand(Uniform(0,1)) < sen ? posit+1 : posit+0\n",
        "  end\n",
        "  for i=1:smpl-inf\n",
        "    posit = rand(Uniform(0,1)) > spe ? posit+1 : posit+0\n",
        "  end\n",
        "  \n",
        "  return posit\n",
        "  \n",
        "end"
      ],
      "outputs": [
        {
          "output_type": "execute_result",
          "execution_count": 6,
          "data": {
            "text/plain": "Obs (generic function with 1 method)"
          },
          "metadata": {}
        }
      ],
      "execution_count": 6,
      "metadata": {
        "collapsed": true,
        "jupyter": {
          "source_hidden": false,
          "outputs_hidden": false
        },
        "nteract": {
          "transient": {
            "deleting": false
          }
        },
        "execution": {
          "iopub.status.busy": "2020-12-08T20:16:48.507Z",
          "iopub.execute_input": "2020-12-08T20:16:48.516Z",
          "iopub.status.idle": "2020-12-08T20:16:48.578Z"
        }
      }
    },
    {
      "cell_type": "code",
      "source": [
        "struct mDist\n",
        "    s::Array{Int,1}\n",
        "end\n",
        "\n",
        "\n",
        "function Base.rand(rng::AbstractRNG, d::Random.SamplerTrivial{mDist}) #generate observations\n",
        "  return Obs(d[].s,0.98,0.98,d[].s[1]+d[].s[2]+d[].s[3])\n",
        "end\n",
        "\n",
        "function POMDPs.pdf(d::mDist, x::Int) #PDF of observation distribution\n",
        "  return hyp(d.s,0.98,0.98,d.s[1]+d.s[2]+d.s[3],x)\n",
        "end\n",
        "\n",
        "function POMDPs.observation(p::m,a::Int,sp::Array{Int,1})\n",
        "     return mDist(sp) \n",
        "end"
      ],
      "outputs": [],
      "execution_count": 7,
      "metadata": {
        "collapsed": true,
        "jupyter": {
          "source_hidden": false,
          "outputs_hidden": false
        },
        "nteract": {
          "transient": {
            "deleting": false
          }
        },
        "execution": {
          "iopub.status.busy": "2020-12-08T20:16:48.591Z",
          "iopub.execute_input": "2020-12-08T20:16:48.600Z",
          "iopub.status.idle": "2020-12-08T20:16:48.611Z"
        }
      }
    },
    {
      "cell_type": "code",
      "source": [
        "d = mDist([10,20,30,40])\n"
      ],
      "outputs": [
        {
          "output_type": "execute_result",
          "execution_count": 8,
          "data": {
            "text/plain": "mDist([10, 20, 30, 40])"
          },
          "metadata": {}
        }
      ],
      "execution_count": 8,
      "metadata": {
        "collapsed": true,
        "jupyter": {
          "source_hidden": false,
          "outputs_hidden": false
        },
        "nteract": {
          "transient": {
            "deleting": false
          }
        },
        "execution": {
          "iopub.status.busy": "2020-12-08T20:16:48.623Z",
          "iopub.execute_input": "2020-12-08T20:16:48.630Z",
          "iopub.status.idle": "2020-12-08T20:16:48.864Z"
        }
      }
    },
    {
      "cell_type": "code",
      "source": [
        "struct initialD #initial state\n",
        "end\n",
        "\n",
        "\n",
        "function Base.rand(rng::AbstractRNG, d::Random.SamplerTrivial{initialD}) #deterministic sample since initial state is deterministic (doesn't have to be)\n",
        "  return [90,10,0,0]\n",
        "end\n",
        "\n",
        "start = initialD()"
      ],
      "outputs": [
        {
          "output_type": "execute_result",
          "execution_count": 9,
          "data": {
            "text/plain": "initialD()"
          },
          "metadata": {}
        }
      ],
      "execution_count": 9,
      "metadata": {
        "collapsed": true,
        "jupyter": {
          "source_hidden": false,
          "outputs_hidden": false
        },
        "nteract": {
          "transient": {
            "deleting": false
          }
        },
        "execution": {
          "iopub.status.busy": "2020-12-08T20:16:48.876Z",
          "iopub.execute_input": "2020-12-08T20:16:48.885Z",
          "iopub.status.idle": "2020-12-08T20:16:49.056Z"
        }
      }
    },
    {
      "cell_type": "code",
      "source": [
        "using Distributions, LinearAlgebra, Statistics\n",
        "\n",
        "POMDPs.initialstate(m::m) = start"
      ],
      "outputs": [],
      "execution_count": 10,
      "metadata": {
        "collapsed": true,
        "jupyter": {
          "source_hidden": false,
          "outputs_hidden": false
        },
        "nteract": {
          "transient": {
            "deleting": false
          }
        },
        "execution": {
          "iopub.status.busy": "2020-12-08T20:16:49.067Z",
          "iopub.execute_input": "2020-12-08T20:16:49.077Z",
          "iopub.status.idle": "2020-12-08T20:16:49.090Z"
        }
      }
    },
    {
      "cell_type": "code",
      "source": [
        "using POMDPPolicies: FunctionPolicy #heuristic policy toevaluate leaf nodes\n",
        "\n",
        "function my_heuristic(b::Array{Int64,1})\n",
        "\n",
        "return 1\n",
        " \n",
        "end\n",
        "\n",
        "heuristic_policy = FunctionPolicy(my_heuristic)"
      ],
      "outputs": [
        {
          "output_type": "execute_result",
          "execution_count": 11,
          "data": {
            "text/plain": "FunctionPolicy{typeof(my_heuristic)}(my_heuristic)"
          },
          "metadata": {}
        }
      ],
      "execution_count": 11,
      "metadata": {
        "collapsed": true,
        "jupyter": {
          "source_hidden": false,
          "outputs_hidden": false
        },
        "nteract": {
          "transient": {
            "deleting": false
          }
        },
        "execution": {
          "iopub.status.busy": "2020-12-08T20:16:49.103Z",
          "iopub.execute_input": "2020-12-08T20:16:49.111Z",
          "iopub.status.idle": "2020-12-08T20:16:49.428Z"
        }
      }
    },
    {
      "cell_type": "code",
      "source": [
        "#initialize solver\n",
        "using BasicPOMCP \n",
        "using POMDPSimulators\n",
        "solver = POMCPSolver(tree_queries=100000, c=7000, max_depth=20, estimate_value = FORollout(heuristic_policy)) \n",
        "pomdp = m()\n",
        "planner = solve(solver, pomdp);"
      ],
      "outputs": [],
      "execution_count": 12,
      "metadata": {
        "collapsed": true,
        "jupyter": {
          "source_hidden": false,
          "outputs_hidden": false
        },
        "nteract": {
          "transient": {
            "deleting": false
          }
        },
        "execution": {
          "iopub.status.busy": "2020-12-08T20:16:49.438Z",
          "iopub.execute_input": "2020-12-08T20:16:49.446Z",
          "iopub.status.idle": "2020-12-08T20:16:51.961Z"
        }
      }
    },
    {
      "cell_type": "code",
      "source": [
        "Random.seed!(2);\n",
        "using ParticleFilters\n",
        "i=0\n",
        "rw=0\n",
        "filter = SIRParticleFilter(pomdp, 2000)\n",
        "\n",
        "for (s,a,r,sp,o,b) in stepthrough(pomdp, planner, filter, \"s,a,r,sp,o,b\")\n",
        "    @show (s,a,r,sp,o)\n",
        "  println(mean(b))\n",
        "    rw+=r\n",
        "i+=1\n",
        "  if i == 30\n",
        "    break\n",
        "  end\n",
        "end\n",
        "println(rw)"
      ],
      "outputs": [
        {
          "output_type": "stream",
          "name": "stdout",
          "text": [
            "(s, a, r, sp, o) = ([90, 10, 0, 0], 1, 850, [74, 22, 2, 2], 22)\n",
            "[90.0, 10.0, 0.0, 0.0]\n",
            "(s, a, r, sp, o) = ([74, 22, 2, 2], 2, -100, [76, 14, 8, 2], 18)\n",
            "[77.257, 19.465, 2.734, 0.544]\n",
            "(s, a, r, sp, o) = ([76, 14, 8, 2], 2, -100, [77, 7, 13, 3], 7)\n",
            "[77.226, 15.324, 6.2785, 1.1715]\n",
            "(s, a, r, sp, o) = ([77, 7, 13, 3], 1, 715, [67, 16, 14, 3], 20)\n",
            "[80.5975, 6.221, 11.004, 2.1775]\n",
            "(s, a, r, sp, o) = ([67, 16, 14, 3], 2, -100, [67, 10, 20, 3], 11)\n",
            "[67.244, 18.227, 12.084, 2.445]\n",
            "(s, a, r, sp, o) = ([67, 10, 20, 3], 1, 670, [47, 24, 24, 5], 28)\n",
            "[70.0705, 9.7985, 16.7205, 3.4105]\n",
            "(s, a, r, sp, o) = ([47, 24, 24, 5], 2, -100, [53, 13, 27, 7], 14)\n",
            "[57.5615, 19.79, 19.0485, 3.6]\n",
            "(s, a, r, sp, o) = ([53, 13, 27, 7], 2, -100, [57, 3, 32, 8], 4)\n",
            "[59.931, 12.432, 23.1805, 4.4565]\n",
            "(s, a, r, sp, o) = ([57, 3, 32, 8], 1, 475, [55, 6, 31, 8], 9)\n",
            "[63.0635, 3.6845, 27.4915, 5.7605]\n",
            "(s, a, r, sp, o) = ([55, 6, 31, 8], 1, 430, [48, 9, 35, 8], 11)\n",
            "[57.8195, 7.94, 28.223, 6.0175]\n",
            "(s, a, r, sp, o) = ([48, 9, 35, 8], 2, -100, [49, 5, 36, 10], 5)\n",
            "[52.8775, 10.3, 29.9375, 6.885]\n",
            "(s, a, r, sp, o) = ([49, 5, 36, 10], 1, 325, [41, 10, 39, 10], 10)\n",
            "[55.1415, 4.338, 32.698, 7.8225]\n",
            "(s, a, r, sp, o) = ([41, 10, 39, 10], 2, -100, [44, 7, 39, 10], 10)\n",
            "[49.65, 8.924, 33.391, 8.035]\n",
            "(s, a, r, sp, o) = ([44, 7, 39, 10], 2, -100, [45, 4, 41, 10], 4)\n",
            "[49.453, 7.726, 34.4615, 8.3595]\n",
            "(s, a, r, sp, o) = ([45, 4, 41, 10], 1, 340, [37, 13, 40, 10], 14)\n",
            "[51.327, 3.329, 36.4365, 8.9075]\n",
            "(s, a, r, sp, o) = ([37, 13, 40, 10], 2, -100, [41, 9, 40, 10], 11)\n",
            "[42.808, 12.0635, 36.239, 8.8895]\n",
            "(s, a, r, sp, o) = ([41, 9, 40, 10], 2, -100, [44, 1, 45, 10], 2)\n",
            "[43.722, 9.061, 37.8285, 9.3885]\n",
            "(s, a, r, sp, o) = ([44, 1, 45, 10], 1, 385, [39, 7, 44, 10], 9)\n",
            "[46.5445, 2.009, 41.6425, 9.804]\n",
            "(s, a, r, sp, o) = ([39, 7, 44, 10], 2, -100, [41, 4, 45, 10], 5)\n",
            "[41.68, 7.315, 41.126, 9.879]\n",
            "(s, a, r, sp, o) = ([41, 4, 45, 10], 1, 340, [37, 9, 44, 10], 10)\n",
            "[42.8585, 4.03, 42.7215, 10.39]\n",
            "(s, a, r, sp, o) = ([37, 9, 44, 10], 2, -100, [37, 5, 47, 11], 6)\n",
            "[37.08, 8.8015, 43.425, 10.6935]\n",
            "(s, a, r, sp, o) = ([37, 5, 47, 11], 1, 265, [25, 17, 46, 12], 17)\n",
            "[38.447, 4.9495, 45.2685, 11.335]\n",
            "(s, a, r, sp, o) = ([25, 17, 46, 12], 2, -100, [27, 14, 47, 12], 15)\n",
            "[28.674, 15.234, 44.6755, 11.4165]\n",
            "(s, a, r, sp, o) = ([27, 14, 47, 12], 2, -100, [32, 7, 49, 12], 9)\n",
            "[29.592, 12.4885, 46.1675, 11.752]\n",
            "(s, a, r, sp, o) = ([32, 7, 49, 12], 2, -100, [32, 6, 50, 12], 8)\n",
            "[31.469, 7.6875, 48.459, 12.3845]\n",
            "(s, a, r, sp, o) = ([32, 6, 50, 12], 2, -100, [32, 3, 53, 12], 7)\n",
            "[32.147, 6.176, 49.063, 12.614]\n",
            "(s, a, r, sp, o) = ([32, 3, 53, 12], 2, -100, [33, 2, 53, 12], 2)\n",
            "[32.5875, 5.22, 49.3805, 12.812]\n",
            "(s, a, r, sp, o) = ([33, 2, 53, 12], 1, 250, [31, 5, 52, 12], 6)\n",
            "[33.7865, 1.699, 51.025, 13.4895]\n",
            "(s, a, r, sp, o) = ([31, 5, 52, 12], 2, -100, [32, 1, 55, 12], 2)\n",
            "[30.651, 4.7935, 50.8485, 13.707]\n",
            "(s, a, r, sp, o) = ([32, 1, 55, 12], 1, 265, [30, 4, 54, 12], 3)\n",
            "[32.119, 1.599, 51.9325, 14.3495]\n",
            "3510\n"
          ]
        }
      ],
      "execution_count": 13,
      "metadata": {
        "collapsed": true,
        "jupyter": {
          "source_hidden": false,
          "outputs_hidden": false
        },
        "nteract": {
          "transient": {
            "deleting": false
          }
        },
        "execution": {
          "iopub.status.busy": "2020-12-08T20:16:51.973Z",
          "iopub.execute_input": "2020-12-08T20:16:53.489Z",
          "iopub.status.idle": "2020-12-08T20:21:30.358Z"
        }
      }
    },
    {
      "cell_type": "code",
      "source": [
        "using POMDPPolicies: FunctionPolicy\n",
        "\n",
        "function cutoff(b)\n",
        "    if mean(b)[2] > 8\n",
        "    return 2\n",
        "  else\n",
        "    return 1\n",
        "  end\n",
        "end\n",
        "\n",
        "\n",
        "\n",
        "cutoff_p = FunctionPolicy(cutoff)\n",
        "\n",
        "function simple(b)\n",
        "  if i % 2 == 0\n",
        "    return 2\n",
        "  else\n",
        "    return 1\n",
        "  end\n",
        "end\n",
        "\n",
        "\n",
        "simple_p = FunctionPolicy(simple)\n",
        "\n"
      ],
      "outputs": [
        {
          "output_type": "execute_result",
          "execution_count": 22,
          "data": {
            "text/plain": "FunctionPolicy{typeof(simple)}(simple)"
          },
          "metadata": {}
        }
      ],
      "execution_count": 22,
      "metadata": {
        "collapsed": true,
        "jupyter": {
          "source_hidden": false,
          "outputs_hidden": false
        },
        "nteract": {
          "transient": {
            "deleting": false
          }
        },
        "execution": {
          "iopub.status.busy": "2020-12-08T22:31:24.779Z",
          "iopub.execute_input": "2020-12-08T22:31:24.791Z",
          "iopub.status.idle": "2020-12-08T22:31:24.816Z"
        }
      }
    },
    {
      "cell_type": "code",
      "source": [
        "using ParticleFilters\n",
        "filter = SIRParticleFilter(pomdp, 2000)\n",
        "i = 0\n",
        "\n",
        "rwe = 0\n",
        "\n",
        "for (s,a,r,sp,o,b) in stepthrough(pomdp, simple_p, filter, \"s,a,r,sp,o,b\")\n",
        "    @show (s,a,r,sp,o)\n",
        "  println(mean(b))\n",
        "    rwe+=r\n",
        "    i+=1\n",
        "  if i == 30\n",
        "    break\n",
        "  end\n",
        "end\n",
        "println(rwe)"
      ],
      "outputs": [
        {
          "output_type": "stream",
          "name": "stdout",
          "text": [
            "(s, a, r, sp, o) = ([90, 10, 0, 0], 2, -100, [88, 10, 0, 2], 11)\n",
            "[90.0, 10.0, 0.0, 0.0]\n",
            "(s, a, r, sp, o) = ([88, 10, 0, 2], 1, 730, [71, 26, 1, 2], 29)\n",
            "[88.9875, 8.5685, 2.069, 0.375]\n",
            "(s, a, r, sp, o) = ([71, 26, 1, 2], 2, -100, [76, 17, 4, 3], 20)\n",
            "[75.322, 19.8085, 4.1655, 0.704]\n",
            "(s, a, r, sp, o) = ([76, 17, 4, 3], 1, 565, [53, 35, 8, 4], 36)\n",
            "[75.1425, 16.425, 7.117, 1.3155]\n",
            "(s, a, r, sp, o) = ([53, 35, 8, 4], 2, -100, [63, 17, 13, 7], 17)\n",
            "[65.485, 19.913, 12.8085, 1.7935]\n",
            "(s, a, r, sp, o) = ([63, 17, 13, 7], 1, 325, [45, 30, 18, 7], 31)\n",
            "[66.6995, 14.6185, 16.125, 2.557]\n",
            "(s, a, r, sp, o) = ([45, 30, 18, 7], 2, -100, [49, 21, 22, 8], 21)\n",
            "[56.953, 19.8715, 20.162, 3.0135]\n",
            "(s, a, r, sp, o) = ([49, 21, 22, 8], 1, 205, [40, 25, 27, 8], 25)\n",
            "[57.7125, 16.9505, 21.9085, 3.4285]\n",
            "(s, a, r, sp, o) = ([40, 25, 27, 8], 2, -100, [45, 11, 34, 10], 14)\n",
            "[46.719, 19.844, 28.9565, 4.4805]\n",
            "(s, a, r, sp, o) = ([45, 11, 34, 10], 1, 235, [39, 17, 34, 10], 19)\n",
            "[49.324, 12.369, 32.9235, 5.3835]\n",
            "(s, a, r, sp, o) = ([39, 17, 34, 10], 2, -100, [46, 10, 34, 10], 11)\n",
            "[39.625, 18.2895, 36.134, 5.9515]\n",
            "(s, a, r, sp, o) = ([46, 10, 34, 10], 1, 250, [37, 19, 34, 10], 20)\n",
            "[42.986, 9.841, 40.215, 6.958]\n",
            "(s, a, r, sp, o) = ([37, 19, 34, 10], 2, -100, [38, 16, 36, 10], 18)\n",
            "[32.002, 18.6795, 41.897, 7.4215]\n",
            "(s, a, r, sp, o) = ([38, 16, 36, 10], 1, 160, [22, 29, 39, 10], 29)\n",
            "[33.805, 15.182, 43.254, 7.759]\n",
            "(s, a, r, sp, o) = ([22, 29, 39, 10], 2, -100, [26, 16, 47, 11], 16)\n",
            "[23.9755, 19.8715, 47.9315, 8.2215]\n",
            "(s, a, r, sp, o) = ([26, 16, 47, 11], 1, 100, [14, 26, 49, 11], 25)\n",
            "[26.4355, 13.921, 50.7965, 8.847]\n",
            "(s, a, r, sp, o) = ([14, 26, 49, 11], 2, -100, [21, 15, 51, 13], 15)\n",
            "[15.641, 19.7495, 55.353, 9.2565]\n",
            "(s, a, r, sp, o) = ([21, 15, 51, 13], 1, -5, [3, 28, 56, 13], 28)\n",
            "[18.623, 13.222, 58.205, 9.95]\n",
            "(s, a, r, sp, o) = ([3, 28, 56, 13], 2, -100, [11, 11, 64, 14], 12)\n",
            "[9.0405, 19.8255, 61.3745, 9.7595]\n",
            "(s, a, r, sp, o) = ([11, 11, 64, 14], 1, -5, [4, 18, 63, 15], 21)\n",
            "[12.964, 10.852, 65.298, 10.886]\n",
            "(s, a, r, sp, o) = ([4, 18, 63, 15], 2, -100, [8, 13, 64, 15], 13)\n",
            "[6.0805, 18.8855, 63.989, 11.045]\n",
            "(s, a, r, sp, o) = ([8, 13, 64, 15], 1, -95, [2, 16, 67, 15], 16)\n",
            "[9.479, 11.544, 67.153, 11.824]\n",
            "(s, a, r, sp, o) = ([2, 16, 67, 15], 2, -100, [3, 15, 67, 15], 16)\n",
            "[4.1165, 14.9, 68.6875, 12.296]\n",
            "(s, a, r, sp, o) = ([3, 15, 67, 15], 1, -125, [4, 13, 68, 15], 15)\n",
            "[5.9125, 13.2055, 68.5845, 12.2975]\n",
            "(s, a, r, sp, o) = ([4, 13, 68, 15], 2, -100, [4, 11, 70, 15], 12)\n",
            "[3.061, 13.7135, 70.3735, 12.852]\n",
            "(s, a, r, sp, o) = ([4, 11, 70, 15], 1, -65, [1, 11, 73, 15], 11)\n",
            "[5.347, 10.081, 71.3715, 13.2005]\n",
            "(s, a, r, sp, o) = ([1, 11, 73, 15], 2, -100, [2, 10, 72, 16], 11)\n",
            "[2.6635, 10.0235, 73.5475, 13.7655]\n",
            "(s, a, r, sp, o) = ([2, 10, 72, 16], 1, -110, [3, 11, 69, 17], 11)\n",
            "[4.021, 8.7905, 73.409, 13.7795]\n",
            "(s, a, r, sp, o) = ([3, 11, 69, 17], 2, -100, [6, 7, 70, 17], 8)\n",
            "[2.1325, 9.678, 74.0915, 14.098]\n",
            "(s, a, r, sp, o) = ([6, 7, 70, 17], 1, -125, [1, 10, 70, 19], 10)\n",
            "[4.0055, 6.541, 74.901, 14.5525]\n",
            "540\n"
          ]
        }
      ],
      "execution_count": 23,
      "metadata": {
        "collapsed": true,
        "jupyter": {
          "source_hidden": false,
          "outputs_hidden": false
        },
        "nteract": {
          "transient": {
            "deleting": false
          }
        },
        "execution": {
          "iopub.status.busy": "2020-12-08T22:31:26.284Z",
          "iopub.execute_input": "2020-12-08T22:31:26.292Z",
          "iopub.status.idle": "2020-12-08T22:31:34.052Z"
        }
      }
    },
    {
      "cell_type": "code",
      "source": [
        "using ParticleFilters\n",
        "filter = SIRParticleFilter(pomdp, 2000)\n",
        "i = 0\n",
        "\n",
        "rwe = 0\n",
        "\n",
        "for (s,a,r,sp,o,b) in stepthrough(pomdp, cutoff_p, filter, \"s,a,r,sp,o,b\")\n",
        "    @show (s,a,r,sp,o)\n",
        "  println(mean(b))\n",
        "    rwe+=r\n",
        "    i+=1\n",
        "  if i == 30\n",
        "    break\n",
        "  end\n",
        "end\n",
        "println(rwe)"
      ],
      "outputs": [
        {
          "output_type": "stream",
          "name": "stdout",
          "text": [
            "(s, a, r, sp, o) = ([90, 10, 0, 0], 2, -100, [90, 7, 2, 1], 10)\n",
            "[90.0, 10.0, 0.0, 0.0]\n",
            "(s, a, r, sp, o) = ([90, 7, 2, 1], 1, 835, [82, 13, 4, 1], 12)\n",
            "[89.557, 7.846, 2.171, 0.426]\n",
            "(s, a, r, sp, o) = ([82, 13, 4, 1], 2, -100, [82, 10, 7, 1], 11)\n",
            "[83.258, 11.199, 4.5805, 0.9625]\n",
            "(s, a, r, sp, o) = ([82, 10, 7, 1], 2, -100, [86, 5, 8, 1], 6)\n",
            "[82.9335, 8.845, 6.816, 1.4055]\n",
            "(s, a, r, sp, o) = ([86, 5, 8, 1], 1, 865, [69, 20, 9, 2], 20)\n",
            "[83.905, 4.847, 9.304, 1.944]\n",
            "(s, a, r, sp, o) = ([69, 20, 9, 2], 2, -100, [74, 9, 14, 3], 8)\n",
            "[70.044, 17.9385, 9.8735, 2.144]\n",
            "(s, a, r, sp, o) = ([74, 9, 14, 3], 1, 685, [57, 21, 19, 3], 21)\n",
            "[73.977, 7.282, 15.361, 3.38]\n",
            "(s, a, r, sp, o) = ([57, 21, 19, 3], 2, -100, [62, 13, 22, 3], 13)\n",
            "[60.73, 18.997, 16.652, 3.621]\n",
            "(s, a, r, sp, o) = ([62, 13, 22, 3], 2, -100, [63, 4, 28, 5], 4)\n",
            "[63.1265, 11.5115, 20.9015, 4.4605]\n",
            "(s, a, r, sp, o) = ([63, 4, 28, 5], 1, 640, [55, 11, 29, 5], 13)\n",
            "[65.8525, 3.583, 25.022, 5.5425]\n",
            "(s, a, r, sp, o) = ([55, 11, 29, 5], 2, -100, [55, 3, 34, 8], 4)\n",
            "[57.872, 11.329, 25.1895, 5.6095]\n",
            "(s, a, r, sp, o) = ([55, 3, 34, 8], 1, 475, [49, 10, 33, 8], 10)\n",
            "[60.688, 3.539, 29.379, 6.394]\n",
            "(s, a, r, sp, o) = ([49, 10, 33, 8], 2, -100, [48, 10, 34, 8], 10)\n",
            "[54.836, 8.7235, 29.8865, 6.554]\n",
            "(s, a, r, sp, o) = ([48, 10, 34, 8], 1, 370, [38, 18, 36, 8], 20)\n",
            "[54.7125, 7.7125, 30.851, 6.724]\n",
            "(s, a, r, sp, o) = ([38, 18, 36, 8], 2, -100, [41, 14, 37, 8], 15)\n",
            "[42.745, 18.5145, 31.7595, 6.981]\n",
            "(s, a, r, sp, o) = ([41, 14, 37, 8], 2, -100, [41, 8, 43, 8], 11)\n",
            "[44.4835, 13.037, 34.9075, 7.572]\n",
            "(s, a, r, sp, o) = ([41, 8, 43, 8], 2, -100, [41, 5, 46, 8], 6)\n",
            "[45.6565, 9.1785, 37.053, 8.112]\n",
            "(s, a, r, sp, o) = ([41, 5, 46, 8], 1, 445, [28, 16, 47, 9], 17)\n",
            "[47.2225, 4.971, 39.0345, 8.772]\n",
            "(s, a, r, sp, o) = ([28, 16, 47, 9], 2, -100, [32, 9, 50, 9], 10)\n",
            "[37.222, 15.212, 38.6555, 8.9105]\n",
            "(s, a, r, sp, o) = ([32, 9, 50, 9], 2, -100, [34, 7, 50, 9], 7)\n",
            "[39.707, 8.697, 41.869, 9.727]\n",
            "(s, a, r, sp, o) = ([34, 7, 50, 9], 1, 355, [27, 13, 50, 10], 15)\n",
            "[40.825, 5.6065, 43.3595, 10.209]\n",
            "(s, a, r, sp, o) = ([27, 13, 50, 10], 2, -100, [30, 7, 53, 10], 9)\n",
            "[32.1795, 13.6545, 43.795, 10.371]\n",
            "(s, a, r, sp, o) = ([30, 7, 53, 10], 1, 295, [25, 9, 54, 12], 9)\n",
            "[34.4045, 7.796, 46.6355, 11.164]\n",
            "(s, a, r, sp, o) = ([25, 9, 54, 12], 2, -100, [27, 4, 57, 12], 4)\n",
            "[30.5655, 8.5355, 48.6175, 12.2815]\n",
            "(s, a, r, sp, o) = ([27, 4, 57, 12], 1, 220, [21, 11, 56, 12], 11)\n",
            "[32.957, 3.438, 50.871, 12.734]\n",
            "(s, a, r, sp, o) = ([21, 11, 56, 12], 2, -100, [21, 9, 57, 13], 11)\n",
            "[27.2965, 9.4735, 50.4185, 12.8115]\n",
            "(s, a, r, sp, o) = ([21, 9, 57, 13], 2, -100, [22, 8, 57, 13], 9)\n",
            "[27.8365, 8.615, 50.714, 12.8345]\n",
            "(s, a, r, sp, o) = ([22, 8, 57, 13], 1, 100, [11, 18, 58, 13], 18)\n",
            "[28.473, 7.0495, 51.349, 13.1285]\n",
            "(s, a, r, sp, o) = ([11, 18, 58, 13], 2, -100, [18, 6, 63, 13], 7)\n",
            "[18.632, 16.6005, 51.3705, 13.397]\n",
            "(s, a, r, sp, o) = ([18, 6, 63, 13], 1, 130, [12, 10, 65, 13], 12)\n",
            "[22.583, 6.4535, 56.342, 14.6215]\n",
            "3615\n"
          ]
        }
      ],
      "execution_count": 24,
      "metadata": {
        "collapsed": true,
        "jupyter": {
          "source_hidden": false,
          "outputs_hidden": false
        },
        "nteract": {
          "transient": {
            "deleting": false
          }
        },
        "execution": {
          "iopub.status.busy": "2020-12-08T22:31:34.064Z",
          "iopub.execute_input": "2020-12-08T22:31:34.071Z",
          "iopub.status.idle": "2020-12-08T22:31:39.527Z"
        }
      }
    },
    {
      "cell_type": "markdown",
      "source": [
        "Evaluation"
      ],
      "metadata": {
        "nteract": {
          "transient": {
            "deleting": false
          }
        }
      }
    },
    {
      "cell_type": "code",
      "source": [
        "Random.seed!(1);"
      ],
      "outputs": [],
      "execution_count": 17,
      "metadata": {
        "collapsed": true,
        "jupyter": {
          "source_hidden": false,
          "outputs_hidden": false
        },
        "nteract": {
          "transient": {
            "deleting": false
          }
        },
        "execution": {
          "iopub.status.busy": "2020-12-08T20:21:42.388Z",
          "iopub.execute_input": "2020-12-08T20:21:42.396Z",
          "iopub.status.idle": "2020-12-08T20:21:42.409Z"
        }
      }
    },
    {
      "cell_type": "code",
      "source": [
        "#evaluate simple policy\n",
        "\n",
        "using POMDPPolicies: FunctionPolicy\n",
        "\n",
        "function simple(b) #try every k days\n",
        "  if i % k == 0\n",
        "    return 2\n",
        "  else\n",
        "    return 1\n",
        "  end\n",
        "end\n",
        "\n",
        "simple_p = FunctionPolicy(simple)\n",
        "\n",
        "using ParticleFilters\n",
        "filter = SIRParticleFilter(pomdp, 2000)\n",
        "k = 0\n",
        "for c = 0:5\n",
        "  \n",
        "  k += 1\n",
        "  print(\"Every: \")\n",
        "  println(k)\n",
        "  tr = 0\n",
        "  for iter = 1:10\n",
        "    i = 0\n",
        "    rwe = 0\n",
        "\n",
        "for (s,a,r,sp,o,b) in stepthrough(pomdp, simple_p, filter, \"s,a,r,sp,o,b\")\n",
        "    #@show (s,a,r,sp,o)\n",
        "  #println(mean(b))\n",
        "    rwe+=r\n",
        "    i+=1\n",
        "  if i == 30\n",
        "        #print(sp)\n",
        "    break\n",
        "  end\n",
        "     \n",
        "end\n",
        "     \n",
        "   tr += rwe\n",
        "  end\n",
        "  println(tr/10)\n",
        "end"
      ],
      "outputs": [
        {
          "output_type": "stream",
          "name": "stdout",
          "text": [
            "Every: 1\n",
            "-3000.0\n",
            "Every: 2\n",
            "694.5\n",
            "Every: 3\n",
            "-263.0\n",
            "Every: 4\n",
            "-1964.5\n",
            "Every: 5\n",
            "-4092.0\n",
            "Every: 6\n",
            "-2272.0\n"
          ]
        }
      ],
      "execution_count": 18,
      "metadata": {
        "collapsed": true,
        "jupyter": {
          "source_hidden": false,
          "outputs_hidden": false
        },
        "nteract": {
          "transient": {
            "deleting": false
          }
        },
        "execution": {
          "iopub.status.busy": "2020-12-08T20:21:42.422Z",
          "iopub.execute_input": "2020-12-08T20:21:42.433Z",
          "iopub.status.idle": "2020-12-08T20:27:10.567Z"
        }
      }
    },
    {
      "cell_type": "code",
      "source": [
        "#cutoff heuristic\n",
        "\n",
        "using POMDPPolicies: FunctionPolicy\n",
        "\n",
        "function cutoff(b) #lockdown if greater than k in belief state\n",
        "  if mean(b)[2] > k\n",
        "    return 2\n",
        "  else\n",
        "    return 1\n",
        "  end\n",
        "end\n",
        "\n",
        "cutoff_p = FunctionPolicy(cutoff)\n",
        "\n",
        "using ParticleFilters\n",
        "filter = SIRParticleFilter(pomdp, 2000)\n",
        "k = -1\n",
        "for c = 1:15\n",
        "  \n",
        "  k += 1\n",
        "  print(\"Cutoff: \")\n",
        "  println(k)\n",
        "  tr = 0\n",
        "  for iter = 1:30\n",
        "    i = 0\n",
        "    rwe = 0\n",
        "\n",
        "for (s,a,r,sp,o,b) in stepthrough(pomdp, cutoff_p, filter, \"s,a,r,sp,o,b\")\n",
        "    #@show (s,a,r,sp,o)\n",
        "  #println(mean(b))\n",
        "    rwe+=r\n",
        "    i+=1\n",
        "  if i == 30\n",
        "        #print(sp)\n",
        "    break\n",
        "  end\n",
        "end\n",
        "   tr += rwe\n",
        "    #println(rwe)\n",
        "  end\n",
        "  println(tr/30)\n",
        "end"
      ],
      "outputs": [
        {
          "output_type": "stream",
          "name": "stdout",
          "text": [
            "Cutoff: 0\n",
            "-3000.0\n",
            "Cutoff: 1\n",
            "-2490.5\n",
            "Cutoff: 2\n",
            "-1294.0\n",
            "Cutoff: 3\n",
            "546.8333333333334\n",
            "Cutoff: 4\n",
            "1666.0\n",
            "Cutoff: 5\n",
            "2587.1666666666665\n",
            "Cutoff: 6\n",
            "2348.5\n",
            "Cutoff: 7\n",
            "3065.6666666666665\n",
            "Cutoff: 8\n",
            "2834.8333333333335\n",
            "Cutoff: 9\n",
            "3161.8333333333335\n",
            "Cutoff: 10\n",
            "2409.1666666666665\n",
            "Cutoff: 11\n",
            "1720.6666666666667\n",
            "Cutoff: 12\n",
            "1756.0\n",
            "Cutoff: 13\n",
            "1250.3333333333333\n",
            "Cutoff: 14\n",
            "11.333333333333334\n"
          ]
        }
      ],
      "execution_count": 19,
      "metadata": {
        "collapsed": true,
        "jupyter": {
          "source_hidden": false,
          "outputs_hidden": false
        },
        "nteract": {
          "transient": {
            "deleting": false
          }
        },
        "execution": {
          "iopub.status.busy": "2020-12-08T20:27:20.385Z",
          "iopub.execute_input": "2020-12-08T20:27:20.394Z",
          "iopub.status.idle": "2020-12-08T21:04:10.387Z"
        }
      }
    },
    {
      "cell_type": "code",
      "source": [
        "Random.seed!(2);"
      ],
      "outputs": [],
      "execution_count": 20,
      "metadata": {
        "collapsed": true,
        "jupyter": {
          "source_hidden": false,
          "outputs_hidden": false
        },
        "nteract": {
          "transient": {
            "deleting": false
          }
        },
        "execution": {
          "iopub.status.busy": "2020-12-08T21:04:38.321Z",
          "iopub.execute_input": "2020-12-08T21:04:38.330Z",
          "iopub.status.idle": "2020-12-08T21:04:38.343Z"
        }
      }
    },
    {
      "cell_type": "code",
      "source": [
        "#POMCP evaluation\n",
        "using ParticleFilters\n",
        "filter = SIRParticleFilter(pomdp, 2000)\n",
        "tr = 0\n",
        "for iter = 1:10\n",
        "  i = 0\n",
        "  rwe = 0\n",
        "\n",
        "for (s,a,r,sp,o,b) in stepthrough(pomdp, planner, filter, \"s,a,r,sp,o,b\")\n",
        "    #@show (s,a,r,sp,o)\n",
        "  #println(mean(b))\n",
        "    rwe+=r\n",
        "    i+=1\n",
        "  if i == 30\n",
        "    break\n",
        "  end\n",
        "end\n",
        "  println(rwe)\n",
        "   tr += rwe\n",
        "end\n",
        "println(\"Average: \")\n",
        "  println(tr/10)"
      ],
      "outputs": [
        {
          "output_type": "stream",
          "name": "stdout",
          "text": [
            "3510\n",
            "1645\n",
            "2175\n",
            "1355\n",
            "1495\n",
            "1400\n",
            "2445\n",
            "3530\n",
            "3010\n",
            "4525\n",
            "Average: \n",
            "2509.0\n"
          ]
        }
      ],
      "execution_count": 21,
      "metadata": {
        "collapsed": true,
        "jupyter": {
          "source_hidden": false,
          "outputs_hidden": false
        },
        "nteract": {
          "transient": {
            "deleting": false
          }
        },
        "execution": {
          "iopub.status.busy": "2020-12-08T21:04:39.797Z",
          "iopub.execute_input": "2020-12-08T21:04:39.805Z",
          "iopub.status.idle": "2020-12-08T21:51:34.280Z"
        }
      }
    }
  ],
  "metadata": {
    "kernel_info": {
      "name": "julia-1.5"
    },
    "language_info": {
      "file_extension": ".jl",
      "name": "julia",
      "mimetype": "application/julia",
      "version": "1.5.2"
    },
    "kernelspec": {
      "argv": [
        "C:\\Users\\Leo Schirokauer\\AppData\\Local\\Programs\\Julia 1.5.2\\bin\\julia.exe",
        "-i",
        "--color=yes",
        "--project=@.",
        "C:\\Users\\Leo Schirokauer\\.julia\\packages\\IJulia\\IDNmS\\src\\kernel.jl",
        "{connection_file}"
      ],
      "display_name": "Julia 1.5.2",
      "env": {},
      "interrupt_mode": "message",
      "language": "julia",
      "name": "julia-1.5"
    },
    "nteract": {
      "version": "0.26.0"
    }
  },
  "nbformat": 4,
  "nbformat_minor": 0
}