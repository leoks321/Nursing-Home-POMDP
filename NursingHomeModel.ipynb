{
  "cells": [
    {
      "cell_type": "code",
      "source": [
        "using POMDPs\n",
        "using Distributions: Normal, Uniform, DiscreteUniform, Multinomial, Hypergeometric, Binomial\n",
        "using Random\n",
        "using LinearAlgebra\n",
        "using Statistics\n",
        "using Plots\n",
        "import POMDPs: initialstate, gen, actions, discount, isterminal\n",
        "Random.seed!(1);"
      ],
      "outputs": [],
      "execution_count": 1,
      "metadata": {
        "collapsed": true,
        "jupyter": {
          "source_hidden": false,
          "outputs_hidden": false
        },
        "nteract": {
          "transient": {
            "deleting": false
          }
        },
        "execution": {
          "iopub.status.busy": "2020-12-08T20:16:27.824Z",
          "iopub.execute_input": "2020-12-08T20:16:28.243Z",
          "iopub.status.idle": "2020-12-08T20:16:42.330Z"
        }
      }
    },
    {
      "cell_type": "code",
      "source": [
        "mutable struct m <: POMDPs.POMDP{Array{Int64,1},Int,Int}  #initialize POMDP \n",
        "    discount_factor::Float64\n",
        "end\n",
        "m() = m(.95)\n",
        "discount(p::m) = p.discount_factor\n",
        "\n",
        "using POMDPModelTools \n",
        "actions(::m) = [1, 2]"
      ],
      "outputs": [
        {
          "output_type": "stream",
          "name": "stderr",
          "text": [
            "WARNING: using POMDPModelTools.Uniform in module Main conflicts with an existing identifier.\n"
          ]
        },
        {
          "output_type": "execute_result",
          "execution_count": 2,
          "data": {
            "text/plain": "actions (generic function with 11 methods)"
          },
          "metadata": {}
        }
      ],
      "execution_count": 2,
      "metadata": {
        "collapsed": true,
        "jupyter": {
          "source_hidden": false,
          "outputs_hidden": false
        },
        "nteract": {
          "transient": {
            "deleting": false
          }
        },
        "execution": {
          "iopub.status.busy": "2020-12-08T20:16:42.345Z",
          "iopub.execute_input": "2020-12-08T20:16:47.565Z",
          "iopub.status.idle": "2020-12-08T20:16:48.324Z"
        }
      }
    },
    {
      "cell_type": "code",
      "source": [
        "function gen(m::m, s::Array{Int64,1}, a::Int, rng::AbstractRNG) #function to generate (s,a) \\to (s',r)\n",
        "\n",
        "    if a == 1\n",
        "       sp = waitT(s)\n",
        "    end\n",
        "    if a == 2\n",
        "       sp = lockT(s)\n",
        "    end\n",
        "\n",
        "  \n",
        "    if a == 1\n",
        "    r = 10*s[1]+ -5 * s[2] + 10*s[3] - 50 * s[4] #reward for wait\n",
        "    end\n",
        "  \n",
        "    if a == 2\n",
        "    r =  -100 #reward forlockdown\n",
        "    end\n",
        "  \n",
        "    return (sp=sp, r=r)\n",
        "end;"
      ],
      "outputs": [],
      "execution_count": 3,
      "metadata": {
        "collapsed": true,
        "jupyter": {
          "source_hidden": false,
          "outputs_hidden": false
        },
        "nteract": {
          "transient": {
            "deleting": false
          }
        },
        "execution": {
          "iopub.status.busy": "2020-12-08T20:16:48.339Z",
          "iopub.execute_input": "2020-12-08T20:16:48.348Z",
          "iopub.status.idle": "2020-12-08T20:16:48.362Z"
        }
      }
    },
    {
      "cell_type": "code",
      "source": [
        "np = Uniform(0.3,0.6)\n",
        "function waitT(s::Array{Int64,1})  #state change if action \"wait\"\n",
        "c=3\n",
        "\n",
        "p= rand(np)\n",
        "ri = 0.05\n",
        "  \n",
        "A = zeros(Int8, s[1])\n",
        "  \n",
        "new_cases = 0\n",
        "if s[1] != 0 && s[2] !=0\n",
        "  for i = 1:s[2] #each infected person contacts c=3 people and infects them with probability p\n",
        "    for j = 1:c\n",
        "      ind = rand(1:s[1])\n",
        "      b = rand(Uniform(0,1)) < p\n",
        "      A[ind]= b ? 1 : A[ind]\n",
        "    end\n",
        "  end\n",
        " end\n",
        "if s[1] !=0\n",
        "  for i=1:s[1] #assume low chance of outside infection \n",
        "    a = rand(Uniform(0,1)) > ri \n",
        "    new_cases= !a ? new_cases+1 : new_cases+0\n",
        "  end\n",
        "end\n",
        " \n",
        "\n",
        "s2p = [0.2,0.5,0.25,0.05] #multinomial for infected people\n",
        "s2 = Multinomial(s[2],s2p)\n",
        "s2r = rand(s2)\n",
        "\n",
        "s3p = [0.0,0.02,0.98,0.0] #multinomial for immune people\n",
        "s3 = Multinomial(s[3],s3p)\n",
        "s3r = rand(s3)\n",
        "  \n",
        "\n",
        "n = min(s[1],new_cases + sum(A))\n",
        "s=  [s[1]-n + s2r[1],s2r[2] + n+s3r[2],s3r[3] + s2r[3] ,s[4] + s2r[4]+s3r[4]]\n",
        "return s\n",
        "  \n",
        "end"
      ],
      "outputs": [
        {
          "output_type": "execute_result",
          "execution_count": 4,
          "data": {
            "text/plain": "waitT (generic function with 1 method)"
          },
          "metadata": {}
        }
      ],
      "execution_count": 4,
      "metadata": {
        "collapsed": true,
        "jupyter": {
          "source_hidden": false,
          "outputs_hidden": false
        },
        "nteract": {
          "transient": {
            "deleting": false
          }
        },
        "execution": {
          "iopub.status.busy": "2020-12-08T20:16:48.382Z",
          "iopub.execute_input": "2020-12-08T20:16:48.391Z",
          "iopub.status.idle": "2020-12-08T20:16:48.424Z"
        }
      }
    },
    {
      "cell_type": "code",
      "source": [
        "function lockT(s::Array{Int64,1}) #state change if action \"lockdown\"\n",
        "\n",
        "ri = 0.02\n",
        "  new_cases = 0\n",
        "if s[1] !=0\n",
        "  for i=1:s[1]\n",
        "    a = rand(Uniform(0,1)) > ri\n",
        "    new_cases= !a ? new_cases+1 : new_cases+0\n",
        "  end\n",
        "end\n",
        " \n",
        "\n",
        "s2p = [0.2,0.5,0.25,0.05]\n",
        "s2 = Multinomial(s[2],s2p)\n",
        "s2r = rand(s2)\n",
        "\n",
        "s3p = [0.0,0.02,0.98,0.0]\n",
        "s3 = Multinomial(s[3],s3p)\n",
        "s3r = rand(s3)\n",
        "  \n",
        "\n",
        "n = min(s[1],new_cases)\n",
        "s=  [s[1]-n + s2r[1],s2r[2] + n+s3r[2],s3r[3] + s2r[3] ,s[4] + s2r[4]+s3r[4]]\n",
        "return s\n",
        "  \n",
        "end"
      ],
      "outputs": [
        {
          "output_type": "execute_result",
          "execution_count": 5,
          "data": {
            "text/plain": "lockT (generic function with 1 method)"
          },
          "metadata": {}
        }
      ],
      "execution_count": 5,
      "metadata": {
        "collapsed": true,
        "jupyter": {
          "source_hidden": false,
          "outputs_hidden": false
        },
        "nteract": {
          "transient": {
            "deleting": false
          }
        },
        "execution": {
          "iopub.status.busy": "2020-12-08T20:16:48.438Z",
          "iopub.execute_input": "2020-12-08T20:16:48.446Z",
          "iopub.status.idle": "2020-12-08T20:16:48.495Z"
        }
      }
    },
    {
      "cell_type": "code",
      "source": [
        "using Distributions\n",
        "\n",
        "function hyp(s::Array{Int64,1},sen::Float64,spe::Float64,smpl::Int,x::Int) #calculate PDF for observation distribution\n",
        "  #println(s[2])\n",
        "  #println(s[3])\n",
        "  #println(smpl)\n",
        "  if s[2] < 0\n",
        "    s[2]=0\n",
        "  end\n",
        "  h=Hypergeometric(s[2],s[1]+s[3],smpl)\n",
        "  \n",
        "    p=0\n",
        "    for i=0:min(smpl,d.s[2]) #get anywhere from 0 to min(m,inf) infected people\n",
        "        p = p + pdf(h,i) * bin(x,i,smpl-i,sen,spe) #probability if i infected people, times probability of x positives given i infected people\n",
        "    end\n",
        "    return p\n",
        "end\n",
        "function bin(t::Int, I::Int, NI::Int,sen::Float64,spe::Float64)\n",
        "  bI = Binomial(I,sen)\n",
        "  bNI = Binomial(NI,1-spe)\n",
        "  tp =0\n",
        "  for i=0:t\n",
        "    #println(i)\n",
        "    p = pdf(bI,i) * pdf(bNI,t-i)\n",
        "    #print(p)\n",
        "    tp = tp +p\n",
        "  end\n",
        "  return tp\n",
        "end\n",
        "\n",
        "function Obs(s::Array{Int64,1},sen::Float64,spe::Float64,smpl::Int) #generate observation in state s, sample size smpl, sensitivity sen and specificity spe\n",
        "  inf = 0\n",
        " \n",
        "  tinf = s[2]\n",
        "  tnotinf = s[1]+s[3]\n",
        "  \n",
        "  posit = 0\n",
        "  \n",
        "  for i=1:smpl\n",
        "    a = rand(Uniform(0,tinf+tnotinf))<tinf\n",
        "    inf = a ? inf+1 : inf+0\n",
        "    tinf = a ? tinf-1 : tinf+0\n",
        "    tnotinf = !a ? tnotinf-1 : tnotinf+0\n",
        "  end\n",
        "  for i=1:inf\n",
        "    posit = rand(Uniform(0,1)) < sen ? posit+1 : posit+0\n",
        "  end\n",
        "  for i=1:smpl-inf\n",
        "    posit = rand(Uniform(0,1)) > spe ? posit+1 : posit+0\n",
        "  end\n",
        "  \n",
        "  return posit\n",
        "  \n",
        "end"
      ],
      "outputs": [
        {
          "output_type": "execute_result",
          "execution_count": 6,
          "data": {
            "text/plain": "Obs (generic function with 1 method)"
          },
          "metadata": {}
        }
      ],
      "execution_count": 6,
      "metadata": {
        "collapsed": true,
        "jupyter": {
          "source_hidden": false,
          "outputs_hidden": false
        },
        "nteract": {
          "transient": {
            "deleting": false
          }
        },
        "execution": {
          "iopub.status.busy": "2020-12-08T20:16:48.507Z",
          "iopub.execute_input": "2020-12-08T20:16:48.516Z",
          "iopub.status.idle": "2020-12-08T20:16:48.578Z"
        }
      }
    },
    {
      "cell_type": "code",
      "source": [
        "struct mDist\n",
        "    s::Array{Int,1}\n",
        "end\n",
        "\n",
        "\n",
        "function Base.rand(rng::AbstractRNG, d::Random.SamplerTrivial{mDist}) #generate observations\n",
        "  return Obs(d[].s,0.98,0.98,d[].s[1]+d[].s[2]+d[].s[3])\n",
        "end\n",
        "\n",
        "function POMDPs.pdf(d::mDist, x::Int) #PDF of observation distribution\n",
        "  return hyp(d.s,0.98,0.98,d.s[1]+d.s[2]+d.s[3],x)\n",
        "end\n",
        "\n",
        "function POMDPs.observation(p::m,a::Int,sp::Array{Int,1})\n",
        "     return mDist(sp) \n",
        "end"
      ],
      "outputs": [],
      "execution_count": 7,
      "metadata": {
        "collapsed": true,
        "jupyter": {
          "source_hidden": false,
          "outputs_hidden": false
        },
        "nteract": {
          "transient": {
            "deleting": false
          }
        },
        "execution": {
          "iopub.status.busy": "2020-12-08T20:16:48.591Z",
          "iopub.execute_input": "2020-12-08T20:16:48.600Z",
          "iopub.status.idle": "2020-12-08T20:16:48.611Z"
        }
      }
    },
    {
      "cell_type": "code",
      "source": [
        "d = mDist([10,20,30,40])\n"
      ],
      "outputs": [
        {
          "output_type": "execute_result",
          "execution_count": 8,
          "data": {
            "text/plain": "mDist([10, 20, 30, 40])"
          },
          "metadata": {}
        }
      ],
      "execution_count": 8,
      "metadata": {
        "collapsed": true,
        "jupyter": {
          "source_hidden": false,
          "outputs_hidden": false
        },
        "nteract": {
          "transient": {
            "deleting": false
          }
        },
        "execution": {
          "iopub.status.busy": "2020-12-08T20:16:48.623Z",
          "iopub.execute_input": "2020-12-08T20:16:48.630Z",
          "iopub.status.idle": "2020-12-08T20:16:48.864Z"
        }
      }
    },
    {
      "cell_type": "code",
      "source": [
        "struct initialD #initial state\n",
        "end\n",
        "\n",
        "\n",
        "function Base.rand(rng::AbstractRNG, d::Random.SamplerTrivial{initialD}) #deterministic sample since initial state is deterministic (doesn't have to be)\n",
        "  return [90,10,0,0]\n",
        "end\n",
        "\n",
        "start = initialD()"
      ],
      "outputs": [
        {
          "output_type": "execute_result",
          "execution_count": 9,
          "data": {
            "text/plain": "initialD()"
          },
          "metadata": {}
        }
      ],
      "execution_count": 9,
      "metadata": {
        "collapsed": true,
        "jupyter": {
          "source_hidden": false,
          "outputs_hidden": false
        },
        "nteract": {
          "transient": {
            "deleting": false
          }
        },
        "execution": {
          "iopub.status.busy": "2020-12-08T20:16:48.876Z",
          "iopub.execute_input": "2020-12-08T20:16:48.885Z",
          "iopub.status.idle": "2020-12-08T20:16:49.056Z"
        }
      }
    },
    {
      "cell_type": "code",
      "source": [
        "using Distributions, LinearAlgebra, Statistics\n",
        "\n",
        "POMDPs.initialstate(m::m) = start"
      ],
      "outputs": [],
      "execution_count": 10,
      "metadata": {
        "collapsed": true,
        "jupyter": {
          "source_hidden": false,
          "outputs_hidden": false
        },
        "nteract": {
          "transient": {
            "deleting": false
          }
        },
        "execution": {
          "iopub.status.busy": "2020-12-08T20:16:49.067Z",
          "iopub.execute_input": "2020-12-08T20:16:49.077Z",
          "iopub.status.idle": "2020-12-08T20:16:49.090Z"
        }
      }
    },
    {
      "cell_type": "code",
      "source": [
        "using POMDPPolicies: FunctionPolicy #heuristic policy toevaluate leaf nodes\n",
        "\n",
        "function my_heuristic(b::Array{Int64,1})\n",
        "\n",
        "return 1\n",
        " \n",
        "end\n",
        "\n",
        "heuristic_policy = FunctionPolicy(my_heuristic)"
      ],
      "outputs": [
        {
          "output_type": "execute_result",
          "execution_count": 11,
          "data": {
            "text/plain": "FunctionPolicy{typeof(my_heuristic)}(my_heuristic)"
          },
          "metadata": {}
        }
      ],
      "execution_count": 11,
      "metadata": {
        "collapsed": true,
        "jupyter": {
          "source_hidden": false,
          "outputs_hidden": false
        },
        "nteract": {
          "transient": {
            "deleting": false
          }
        },
        "execution": {
          "iopub.status.busy": "2020-12-08T20:16:49.103Z",
          "iopub.execute_input": "2020-12-08T20:16:49.111Z",
          "iopub.status.idle": "2020-12-08T20:16:49.428Z"
        }
      }
    },
    {
      "cell_type": "code",
      "source": [
        "#initialize solver\n",
        "using BasicPOMCP \n",
        "using POMDPSimulators\n",
        "solver = POMCPSolver(tree_queries=100000, c=7000, max_depth=20, estimate_value = FORollout(heuristic_policy)) \n",
        "pomdp = m()\n",
        "planner = solve(solver, pomdp);"
      ],
      "outputs": [],
      "execution_count": 12,
      "metadata": {
        "collapsed": true,
        "jupyter": {
          "source_hidden": false,
          "outputs_hidden": false
        },
        "nteract": {
          "transient": {
            "deleting": false
          }
        },
        "execution": {
          "iopub.status.busy": "2020-12-08T20:16:49.438Z",
          "iopub.execute_input": "2020-12-08T20:16:49.446Z",
          "iopub.status.idle": "2020-12-08T20:16:51.961Z"
        }
      }
    },
    {
      "cell_type": "code",
      "source": [
        "Random.seed!(2);\n",
        "using ParticleFilters\n",
        "i=0\n",
        "rw=0\n",
        "filter = SIRParticleFilter(pomdp, 2000)\n",
        "\n",
        "for (s,a,r,sp,o,b) in stepthrough(pomdp, planner, filter, \"s,a,r,sp,o,b\")\n",
        "    @show (s,a,r,sp,o)\n",
        "  println(mean(b))\n",
        "    rw+=r\n",
        "i+=1\n",
        "  if i == 30\n",
        "    break\n",
        "  end\n",
        "end\n",
        "println(rw)"
      ],
      "outputs": [
        {
          "output_type": "stream",
          "name": "stdout",
          "text": [
            "(s, a, r, sp, o) = ([90, 10, 0, 0], 1, 850, [74, 22, 2, 2], 22)\n",
            "[90.0, 10.0, 0.0, 0.0]\n",
            "(s, a, r, sp, o) = ([74, 22, 2, 2], 2, -100, [76, 14, 8, 2], 18)\n",
            "[77.257, 19.465, 2.734, 0.544]\n",
            "(s, a, r, sp, o) = ([76, 14, 8, 2], 2, -100, [77, 7, 13, 3], 7)\n",
            "[77.226, 15.324, 6.2785, 1.1715]\n",
            "(s, a, r, sp, o) = ([77, 7, 13, 3], 1, 715, [67, 16, 14, 3], 20)\n",
            "[80.5975, 6.221, 11.004, 2.1775]\n",
            "(s, a, r, sp, o) = ([67, 16, 14, 3], 2, -100, [67, 10, 20, 3], 11)\n",
            "[67.244, 18.227, 12.084, 2.445]\n",
            "(s, a, r, sp, o) = ([67, 10, 20, 3], 1, 670, [47, 24, 24, 5], 28)\n",
            "[70.0705, 9.7985, 16.7205, 3.4105]\n",
            "(s, a, r, sp, o) = ([47, 24, 24, 5], 2, -100, [53, 13, 27, 7], 14)\n",
            "[57.5615, 19.79, 19.0485, 3.6]\n",
            "(s, a, r, sp, o) = ([53, 13, 27, 7], 2, -100, [57, 3, 32, 8], 4)\n",
            "[59.931, 12.432, 23.1805, 4.4565]\n",
            "(s, a, r, sp, o) = ([57, 3, 32, 8], 1, 475, [55, 6, 31, 8], 9)\n",
            "[63.0635, 3.6845, 27.4915, 5.7605]\n",
            "(s, a, r, sp, o) = ([55, 6, 31, 8], 1, 430, [48, 9, 35, 8], 11)\n",
            "[57.8195, 7.94, 28.223, 6.0175]\n",
            "(s, a, r, sp, o) = ([48, 9, 35, 8], 2, -100, [49, 5, 36, 10], 5)\n",
            "[52.8775, 10.3, 29.9375, 6.885]\n",
            "(s, a, r, sp, o) = ([49, 5, 36, 10], 1, 325, [41, 10, 39, 10], 10)\n",
            "[55.1415, 4.338, 32.698, 7.8225]\n",
            "(s, a, r, sp, o) = ([41, 10, 39, 10], 2, -100, [44, 7, 39, 10], 10)\n",
            "[49.65, 8.924, 33.391, 8.035]\n",
            "(s, a, r, sp, o) = ([44, 7, 39, 10], 2, -100, [45, 4, 41, 10], 4)\n",
            "[49.453, 7.726, 34.4615, 8.3595]\n",
            "(s, a, r, sp, o) = ([45, 4, 41, 10], 1, 340, [37, 13, 40, 10], 14)\n",
            "[51.327, 3.329, 36.4365, 8.9075]\n",
            "(s, a, r, sp, o) = ([37, 13, 40, 10], 2, -100, [41, 9, 40, 10], 11)\n",
            "[42.808, 12.0635, 36.239, 8.8895]\n",
            "(s, a, r, sp, o) = ([41, 9, 40, 10], 2, -100, [44, 1, 45, 10], 2)\n",
            "[43.722, 9.061, 37.8285, 9.3885]\n",
            "(s, a, r, sp, o) = ([44, 1, 45, 10], 1, 385, [39, 7, 44, 10], 9)\n",
            "[46.5445, 2.009, 41.6425, 9.804]\n",
            "(s, a, r, sp, o) = ([39, 7, 44, 10], 2, -100, [41, 4, 45, 10], 5)\n",
            "[41.68, 7.315, 41.126, 9.879]\n",
            "(s, a, r, sp, o) = ([41, 4, 45, 10], 1, 340, [37, 9, 44, 10], 10)\n",
            "[42.8585, 4.03, 42.7215, 10.39]\n",
            "(s, a, r, sp, o) = ([37, 9, 44, 10], 2, -100, [37, 5, 47, 11], 6)\n",
            "[37.08, 8.8015, 43.425, 10.6935]\n",
            "(s, a, r, sp, o) = ([37, 5, 47, 11], 1, 265, [25, 17, 46, 12], 17)\n",
            "[38.447, 4.9495, 45.2685, 11.335]\n",
            "(s, a, r, sp, o) = ([25, 17, 46, 12], 2, -100, [27, 14, 47, 12], 15)\n",
            "[28.674, 15.234, 44.6755, 11.4165]\n",
            "(s, a, r, sp, o) = ([27, 14, 47, 12], 2, -100, [32, 7, 49, 12], 9)\n",
            "[29.592, 12.4885, 46.1675, 11.752]\n",
            "(s, a, r, sp, o) = ([32, 7, 49, 12], 2, -100, [32, 6, 50, 12], 8)\n",
            "[31.469, 7.6875, 48.459, 12.3845]\n",
            "(s, a, r, sp, o) = ([32, 6, 50, 12], 2, -100, [32, 3, 53, 12], 7)\n",
            "[32.147, 6.176, 49.063, 12.614]\n",
            "(s, a, r, sp, o) = ([32, 3, 53, 12], 2, -100, [33, 2, 53, 12], 2)\n",
            "[32.5875, 5.22, 49.3805, 12.812]\n",
            "(s, a, r, sp, o) = ([33, 2, 53, 12], 1, 250, [31, 5, 52, 12], 6)\n",
            "[33.7865, 1.699, 51.025, 13.4895]\n",
            "(s, a, r, sp, o) = ([31, 5, 52, 12], 2, -100, [32, 1, 55, 12], 2)\n",
            "[30.651, 4.7935, 50.8485, 13.707]\n",
            "(s, a, r, sp, o) = ([32, 1, 55, 12], 1, 265, [30, 4, 54, 12], 3)\n",
            "[32.119, 1.599, 51.9325, 14.3495]\n",
            "3510\n"
          ]
        }
      ],
      "execution_count": 13,
      "metadata": {
        "collapsed": true,
        "jupyter": {
          "source_hidden": false,
          "outputs_hidden": false
        },
        "nteract": {
          "transient": {
            "deleting": false
          }
        },
        "execution": {
          "iopub.status.busy": "2020-12-08T20:16:51.973Z",
          "iopub.execute_input": "2020-12-08T20:16:53.489Z",
          "iopub.status.idle": "2020-12-08T20:21:30.358Z"
        }
      }
    },
    {
      "cell_type": "code",
      "source": [
        "using POMDPPolicies: FunctionPolicy\n",
        "\n",
        "function cutoff(b)\n",
        "\n",
        "  if i % 2 == 0\n",
        "    return 2\n",
        "  else\n",
        "    return 1\n",
        "  end\n",
        "end\n",
        "\n",
        "cutoff_p = FunctionPolicy(cutoff)\n",
        "\n",
        "function simple(b)\n",
        "\n",
        "  if mean(b)[2] > 8\n",
        "    return 2\n",
        "  else\n",
        "    return 1\n",
        "  end\n",
        "end\n",
        "\n",
        "simple_p = FunctionPolicy(simple)\n",
        "\n"
      ],
      "outputs": [
        {
          "output_type": "execute_result",
          "execution_count": 14,
          "data": {
            "text/plain": "FunctionPolicy{typeof(simple)}(simple)"
          },
          "metadata": {}
        }
      ],
      "execution_count": 14,
      "metadata": {
        "collapsed": true,
        "jupyter": {
          "source_hidden": false,
          "outputs_hidden": false
        },
        "nteract": {
          "transient": {
            "deleting": false
          }
        },
        "execution": {
          "iopub.status.busy": "2020-12-08T20:21:30.369Z",
          "iopub.execute_input": "2020-12-08T20:21:30.376Z",
          "iopub.status.idle": "2020-12-08T20:21:30.527Z"
        }
      }
    },
    {
      "cell_type": "code",
      "source": [
        "using ParticleFilters\n",
        "filter = SIRParticleFilter(pomdp, 2000)\n",
        "i = 0\n",
        "\n",
        "rwe = 0\n",
        "\n",
        "for (s,a,r,sp,o,b) in stepthrough(pomdp, simple_p, filter, \"s,a,r,sp,o,b\")\n",
        "    @show (s,a,r,sp,o)\n",
        "  println(mean(b))\n",
        "    rwe+=r\n",
        "    i+=1\n",
        "  if i == 30\n",
        "    break\n",
        "  end\n",
        "end\n",
        "println(rwe)"
      ],
      "outputs": [
        {
          "output_type": "stream",
          "name": "stdout",
          "text": [
            "(s, a, r, sp, o) = ([90, 10, 0, 0], 2, -100, [91, 4, 4, 1], 6)\n",
            "[90.0, 10.0, 0.0, 0.0]\n",
            "(s, a, r, sp, o) = ([91, 4, 4, 1], 1, 880, [80, 15, 4, 1], 18)\n",
            "[91.3235, 5.055, 3.017, 0.6045]\n",
            "(s, a, r, sp, o) = ([80, 15, 4, 1], 2, -100, [79, 9, 11, 1], 14)\n",
            "[78.7845, 16.2975, 4.095, 0.823]\n",
            "(s, a, r, sp, o) = ([79, 9, 11, 1], 2, -100, [76, 9, 14, 1], 14)\n",
            "[79.2375, 11.7905, 7.4815, 1.4905]\n",
            "(s, a, r, sp, o) = ([76, 9, 14, 1], 2, -100, [77, 4, 18, 1], 5)\n",
            "[78.088, 10.9795, 9.1, 1.8325]\n",
            "(s, a, r, sp, o) = ([77, 4, 18, 1], 1, 880, [64, 16, 19, 1], 16)\n",
            "[80.245, 4.264, 12.8095, 2.6815]\n",
            "(s, a, r, sp, o) = ([64, 16, 19, 1], 2, -100, [67, 10, 21, 2], 10)\n",
            "[69.6155, 14.2015, 13.328, 2.855]\n",
            "(s, a, r, sp, o) = ([67, 10, 21, 2], 2, -100, [68, 7, 23, 2], 9)\n",
            "[71.2025, 8.5355, 16.665, 3.597]\n",
            "(s, a, r, sp, o) = ([68, 7, 23, 2], 1, 775, [60, 18, 20, 2], 21)\n",
            "[70.968, 6.974, 18.118, 3.94]\n",
            "(s, a, r, sp, o) = ([60, 18, 20, 2], 2, -100, [60, 11, 27, 2], 13)\n",
            "[57.713, 18.885, 19.393, 4.009]\n",
            "(s, a, r, sp, o) = ([60, 11, 27, 2], 2, -100, [63, 6, 28, 3], 7)\n",
            "[60.001, 11.495, 23.559, 4.945]\n",
            "(s, a, r, sp, o) = ([63, 6, 28, 3], 1, 730, [55, 14, 28, 3], 15)\n",
            "[61.903, 5.948, 26.519, 5.63]\n",
            "(s, a, r, sp, o) = ([55, 14, 28, 3], 2, -100, [57, 9, 31, 3], 9)\n",
            "[52.759, 13.7355, 27.485, 6.0205]\n",
            "(s, a, r, sp, o) = ([57, 9, 31, 3], 1, 685, [46, 19, 31, 4], 20)\n",
            "[54.905, 7.753, 30.626, 6.716]\n",
            "(s, a, r, sp, o) = ([46, 19, 31, 4], 2, -100, [51, 7, 36, 6], 9)\n",
            "[42.7725, 18.4975, 31.6815, 7.0485]\n",
            "(s, a, r, sp, o) = ([51, 7, 36, 6], 2, -100, [53, 5, 36, 6], 5)\n",
            "[46.8855, 8.1685, 36.759, 8.187]\n",
            "(s, a, r, sp, o) = ([53, 5, 36, 6], 1, 565, [46, 12, 36, 6], 12)\n",
            "[48.318, 4.1255, 38.7625, 8.794]\n",
            "(s, a, r, sp, o) = ([46, 12, 36, 6], 2, -100, [44, 10, 39, 7], 16)\n",
            "[41.692, 10.6195, 38.693, 8.9955]\n",
            "(s, a, r, sp, o) = ([44, 10, 39, 7], 2, -100, [43, 7, 42, 8], 8)\n",
            "[40.5305, 12.3465, 38.8615, 8.2615]\n",
            "(s, a, r, sp, o) = ([43, 7, 42, 8], 1, 415, [28, 20, 44, 8], 23)\n",
            "[42.7005, 6.8465, 41.392, 9.061]\n",
            "(s, a, r, sp, o) = ([28, 20, 44, 8], 2, -100, [32, 9, 50, 9], 9)\n",
            "[30.0935, 19.386, 41.29, 9.2305]\n",
            "(s, a, r, sp, o) = ([32, 9, 50, 9], 2, -100, [33, 6, 52, 9], 8)\n",
            "[34.702, 8.249, 46.596, 10.453]\n",
            "(s, a, r, sp, o) = ([33, 6, 52, 9], 1, 370, [28, 12, 50, 10], 13)\n",
            "[35.431, 6.288, 47.446, 10.835]\n",
            "(s, a, r, sp, o) = ([28, 12, 50, 10], 2, -100, [31, 7, 51, 11], 9)\n",
            "[28.261, 11.888, 48.553, 11.298]\n",
            "(s, a, r, sp, o) = ([31, 7, 51, 11], 1, 235, [22, 16, 51, 11], 17)\n",
            "[30.2015, 7.5925, 50.3395, 11.8665]\n",
            "(s, a, r, sp, o) = ([22, 16, 51, 11], 2, -100, [23, 11, 55, 11], 11)\n",
            "[20.7755, 15.853, 51.1975, 12.174]\n",
            "(s, a, r, sp, o) = ([23, 11, 55, 11], 2, -100, [25, 6, 57, 12], 10)\n",
            "[23.436, 9.6, 54.005, 12.959]\n",
            "(s, a, r, sp, o) = ([25, 6, 57, 12], 1, 190, [25, 8, 55, 12], 9)\n",
            "[24.413, 7.9265, 54.4345, 13.226]\n",
            "(s, a, r, sp, o) = ([25, 8, 55, 12], 2, -100, [25, 5, 58, 12], 7)\n",
            "[19.7655, 8.36, 57.9615, 13.913]\n",
            "(s, a, r, sp, o) = ([25, 5, 58, 12], 1, 205, [21, 11, 56, 12], 12)\n",
            "[20.9115, 5.622, 59.0775, 14.389]\n",
            "4030\n"
          ]
        }
      ],
      "execution_count": 15,
      "metadata": {
        "collapsed": true,
        "jupyter": {
          "source_hidden": false,
          "outputs_hidden": false
        },
        "nteract": {
          "transient": {
            "deleting": false
          }
        },
        "execution": {
          "iopub.status.busy": "2020-12-08T20:21:30.538Z",
          "iopub.execute_input": "2020-12-08T20:21:30.546Z",
          "iopub.status.idle": "2020-12-08T20:21:36.188Z"
        }
      }
    },
    {
      "cell_type": "code",
      "source": [
        "using ParticleFilters\n",
        "filter = SIRParticleFilter(pomdp, 2000)\n",
        "i = 0\n",
        "\n",
        "rwe = 0\n",
        "\n",
        "for (s,a,r,sp,o,b) in stepthrough(pomdp, cutoff_p, filter, \"s,a,r,sp,o,b\")\n",
        "    @show (s,a,r,sp,o)\n",
        "  println(mean(b))\n",
        "    rwe+=r\n",
        "    i+=1\n",
        "  if i == 30\n",
        "    break\n",
        "  end\n",
        "end\n",
        "println(rwe)"
      ],
      "outputs": [
        {
          "output_type": "stream",
          "name": "stdout",
          "text": [
            "(s, a, r, sp, o) = ([90, 10, 0, 0], 2, -100, [92, 5, 2, 1], 7)\n",
            "[90.0, 10.0, 0.0, 0.0]\n",
            "(s, a, r, sp, o) = ([92, 5, 2, 1], 1, 865, [83, 13, 3, 1], 14)\n",
            "[90.86, 5.751, 2.8265, 0.5625]\n",
            "(s, a, r, sp, o) = ([83, 13, 3, 1], 2, -100, [84, 7, 8, 1], 11)\n",
            "[81.9535, 12.8785, 4.286, 0.882]\n",
            "(s, a, r, sp, o) = ([84, 7, 8, 1], 1, 835, [78, 13, 8, 1], 16)\n",
            "[82.245, 9.1505, 7.1385, 1.466]\n",
            "(s, a, r, sp, o) = ([78, 13, 8, 1], 2, -100, [77, 11, 10, 2], 11)\n",
            "[73.336, 15.123, 9.5355, 2.0055]\n",
            "(s, a, r, sp, o) = ([77, 11, 10, 2], 1, 715, [63, 25, 10, 2], 23)\n",
            "[74.8445, 9.446, 12.987, 2.7225]\n",
            "(s, a, r, sp, o) = ([63, 25, 10, 2], 2, -100, [70, 12, 15, 3], 13)\n",
            "[61.9615, 19.5465, 15.415, 3.077]\n",
            "(s, a, r, sp, o) = ([70, 12, 15, 3], 1, 640, [54, 26, 16, 4], 26)\n",
            "[64.58, 11.494, 19.9025, 4.0235]\n",
            "(s, a, r, sp, o) = ([54, 26, 16, 4], 2, -100, [61, 12, 21, 6], 13)\n",
            "[52.338, 19.743, 23.2255, 4.6935]\n",
            "(s, a, r, sp, o) = ([61, 12, 21, 6], 1, 460, [47, 24, 21, 8], 25)\n",
            "[55.163, 11.6005, 27.6135, 5.623]\n",
            "(s, a, r, sp, o) = ([47, 24, 21, 8], 2, -100, [49, 12, 27, 12], 13)\n",
            "[43.418, 19.745, 30.685, 6.152]\n",
            "(s, a, r, sp, o) = ([49, 12, 27, 12], 1, 100, [35, 24, 28, 13], 24)\n",
            "[46.4295, 11.5495, 34.8875, 7.1335]\n",
            "(s, a, r, sp, o) = ([35, 24, 28, 13], 2, -100, [39, 10, 38, 13], 10)\n",
            "[35.4715, 19.7125, 37.5035, 7.3125]\n",
            "(s, a, r, sp, o) = ([39, 10, 38, 13], 1, 70, [26, 21, 40, 13], 23)\n",
            "[39.4205, 9.162, 43.0095, 8.408]\n",
            "(s, a, r, sp, o) = ([26, 21, 40, 13], 2, -100, [28, 12, 44, 16], 12)\n",
            "[27.813, 19.5235, 44.094, 8.5695]\n",
            "(s, a, r, sp, o) = ([28, 12, 44, 16], 1, -140, [13, 25, 46, 16], 26)\n",
            "[31.2785, 10.7355, 48.3675, 9.6185]\n",
            "(s, a, r, sp, o) = ([13, 25, 46, 16], 2, -100, [16, 17, 50, 17], 17)\n",
            "[20.2085, 19.7785, 50.5745, 9.4385]\n",
            "(s, a, r, sp, o) = ([16, 17, 50, 17], 1, -275, [11, 21, 50, 18], 23)\n",
            "[22.63, 14.755, 52.833, 9.782]\n",
            "(s, a, r, sp, o) = ([11, 21, 50, 18], 2, -100, [13, 11, 57, 19], 11)\n",
            "[12.462, 19.612, 57.343, 10.583]\n",
            "(s, a, r, sp, o) = ([13, 11, 57, 19], 1, -305, [3, 16, 61, 20], 18)\n",
            "[16.439, 9.9995, 61.9225, 11.639]\n",
            "(s, a, r, sp, o) = ([3, 16, 61, 20], 2, -100, [4, 11, 64, 21], 13)\n",
            "[8.3145, 16.7925, 62.7615, 12.1315]\n",
            "(s, a, r, sp, o) = ([4, 11, 64, 21], 1, -425, [2, 9, 68, 21], 15)\n",
            "[10.758, 11.349, 64.9785, 12.9145]\n",
            "(s, a, r, sp, o) = ([2, 9, 68, 21], 2, -100, [3, 9, 67, 21], 9)\n",
            "[4.964, 14.002, 67.402, 13.632]\n",
            "(s, a, r, sp, o) = ([3, 9, 67, 21], 1, -395, [2, 8, 69, 21], 8)\n",
            "[7.9465, 7.793, 69.918, 14.3425]\n",
            "(s, a, r, sp, o) = ([2, 8, 69, 21], 2, -100, [4, 6, 68, 22], 6)\n",
            "[3.9725, 7.4775, 73.1765, 15.3735]\n",
            "(s, a, r, sp, o) = ([4, 6, 68, 22], 1, -410, [0, 6, 72, 22], 5)\n",
            "[5.4925, 4.8075, 73.8595, 15.8405]\n",
            "(s, a, r, sp, o) = ([0, 6, 72, 22], 2, -100, [3, 3, 71, 23], 3)\n",
            "[2.992, 4.462, 75.9715, 16.5745]\n",
            "(s, a, r, sp, o) = ([3, 3, 71, 23], 1, -425, [2, 4, 71, 23], 4)\n",
            "[4.093, 2.2965, 76.574, 17.0365]\n",
            "(s, a, r, sp, o) = ([2, 4, 71, 23], 2, -100, [3, 5, 69, 23], 7)\n",
            "[2.486, 3.2205, 76.9815, 17.312]\n",
            "(s, a, r, sp, o) = ([3, 5, 69, 23], 1, -455, [0, 6, 70, 24], 6)\n",
            "[2.8845, 4.5945, 75.3755, 17.1455]\n",
            "-645\n"
          ]
        }
      ],
      "execution_count": 16,
      "metadata": {
        "collapsed": true,
        "jupyter": {
          "source_hidden": false,
          "outputs_hidden": false
        },
        "nteract": {
          "transient": {
            "deleting": false
          }
        },
        "execution": {
          "iopub.status.busy": "2020-12-08T20:21:36.200Z",
          "iopub.execute_input": "2020-12-08T20:21:36.207Z",
          "iopub.status.idle": "2020-12-08T20:21:42.374Z"
        }
      }
    },
    {
      "cell_type": "markdown",
      "source": [
        "Evaluation"
      ],
      "metadata": {
        "nteract": {
          "transient": {
            "deleting": false
          }
        }
      }
    },
    {
      "cell_type": "code",
      "source": [
        "Random.seed!(1);"
      ],
      "outputs": [],
      "execution_count": 17,
      "metadata": {
        "collapsed": true,
        "jupyter": {
          "source_hidden": false,
          "outputs_hidden": false
        },
        "nteract": {
          "transient": {
            "deleting": false
          }
        },
        "execution": {
          "iopub.status.busy": "2020-12-08T20:21:42.388Z",
          "iopub.execute_input": "2020-12-08T20:21:42.396Z",
          "iopub.status.idle": "2020-12-08T20:21:42.409Z"
        }
      }
    },
    {
      "cell_type": "code",
      "source": [
        "#evaluate simple policy\n",
        "\n",
        "using POMDPPolicies: FunctionPolicy\n",
        "\n",
        "function simple(b) #try every k days\n",
        "  if i % k == 0\n",
        "    return 2\n",
        "  else\n",
        "    return 1\n",
        "  end\n",
        "end\n",
        "\n",
        "simple_p = FunctionPolicy(simple)\n",
        "\n",
        "using ParticleFilters\n",
        "filter = SIRParticleFilter(pomdp, 2000)\n",
        "k = 0\n",
        "for c = 0:5\n",
        "  \n",
        "  k += 1\n",
        "  print(\"Every: \")\n",
        "  println(k)\n",
        "  tr = 0\n",
        "  for iter = 1:10\n",
        "    i = 0\n",
        "    rwe = 0\n",
        "\n",
        "for (s,a,r,sp,o,b) in stepthrough(pomdp, simple_p, filter, \"s,a,r,sp,o,b\")\n",
        "    #@show (s,a,r,sp,o)\n",
        "  #println(mean(b))\n",
        "    rwe+=r\n",
        "    i+=1\n",
        "  if i == 30\n",
        "        #print(sp)\n",
        "    break\n",
        "  end\n",
        "     \n",
        "end\n",
        "     \n",
        "   tr += rwe\n",
        "  end\n",
        "  println(tr/10)\n",
        "end"
      ],
      "outputs": [
        {
          "output_type": "stream",
          "name": "stdout",
          "text": [
            "Every: 1\n",
            "-3000.0\n",
            "Every: 2\n",
            "694.5\n",
            "Every: 3\n",
            "-263.0\n",
            "Every: 4\n",
            "-1964.5\n",
            "Every: 5\n",
            "-4092.0\n",
            "Every: 6\n",
            "-2272.0\n"
          ]
        }
      ],
      "execution_count": 18,
      "metadata": {
        "collapsed": true,
        "jupyter": {
          "source_hidden": false,
          "outputs_hidden": false
        },
        "nteract": {
          "transient": {
            "deleting": false
          }
        },
        "execution": {
          "iopub.status.busy": "2020-12-08T20:21:42.422Z",
          "iopub.execute_input": "2020-12-08T20:21:42.433Z",
          "iopub.status.idle": "2020-12-08T20:27:10.567Z"
        }
      }
    },
    {
      "cell_type": "code",
      "source": [
        "#cutoff heuristic\n",
        "\n",
        "using POMDPPolicies: FunctionPolicy\n",
        "\n",
        "function cutoff(b) #lockdown if greater than k in belief state\n",
        "  if mean(b)[2] > k\n",
        "    return 2\n",
        "  else\n",
        "    return 1\n",
        "  end\n",
        "end\n",
        "\n",
        "cutoff_p = FunctionPolicy(cutoff)\n",
        "\n",
        "using ParticleFilters\n",
        "filter = SIRParticleFilter(pomdp, 2000)\n",
        "k = -1\n",
        "for c = 1:15\n",
        "  \n",
        "  k += 1\n",
        "  print(\"Cutoff: \")\n",
        "  println(k)\n",
        "  tr = 0\n",
        "  for iter = 1:30\n",
        "    i = 0\n",
        "    rwe = 0\n",
        "\n",
        "for (s,a,r,sp,o,b) in stepthrough(pomdp, cutoff_p, filter, \"s,a,r,sp,o,b\")\n",
        "    #@show (s,a,r,sp,o)\n",
        "  #println(mean(b))\n",
        "    rwe+=r\n",
        "    i+=1\n",
        "  if i == 30\n",
        "        #print(sp)\n",
        "    break\n",
        "  end\n",
        "end\n",
        "   tr += rwe\n",
        "    #println(rwe)\n",
        "  end\n",
        "  println(tr/30)\n",
        "end"
      ],
      "outputs": [
        {
          "output_type": "stream",
          "name": "stdout",
          "text": [
            "Cutoff: 0\n",
            "-3000.0\n",
            "Cutoff: 1\n",
            "-2490.5\n",
            "Cutoff: 2\n",
            "-1294.0\n",
            "Cutoff: 3\n",
            "546.8333333333334\n",
            "Cutoff: 4\n",
            "1666.0\n",
            "Cutoff: 5\n",
            "2587.1666666666665\n",
            "Cutoff: 6\n",
            "2348.5\n",
            "Cutoff: 7\n",
            "3065.6666666666665\n",
            "Cutoff: 8\n",
            "2834.8333333333335\n",
            "Cutoff: 9\n",
            "3161.8333333333335\n",
            "Cutoff: 10\n",
            "2409.1666666666665\n",
            "Cutoff: 11\n",
            "1720.6666666666667\n",
            "Cutoff: 12\n",
            "1756.0\n",
            "Cutoff: 13\n",
            "1250.3333333333333\n",
            "Cutoff: 14\n",
            "11.333333333333334\n"
          ]
        }
      ],
      "execution_count": 19,
      "metadata": {
        "collapsed": true,
        "jupyter": {
          "source_hidden": false,
          "outputs_hidden": false
        },
        "nteract": {
          "transient": {
            "deleting": false
          }
        },
        "execution": {
          "iopub.status.busy": "2020-12-08T20:27:20.385Z",
          "iopub.execute_input": "2020-12-08T20:27:20.394Z",
          "iopub.status.idle": "2020-12-08T21:04:10.387Z"
        }
      }
    },
    {
      "cell_type": "code",
      "source": [
        "Random.seed!(2);"
      ],
      "outputs": [],
      "execution_count": 20,
      "metadata": {
        "collapsed": true,
        "jupyter": {
          "source_hidden": false,
          "outputs_hidden": false
        },
        "nteract": {
          "transient": {
            "deleting": false
          }
        },
        "execution": {
          "iopub.status.busy": "2020-12-08T21:04:38.321Z",
          "iopub.execute_input": "2020-12-08T21:04:38.330Z",
          "iopub.status.idle": "2020-12-08T21:04:38.343Z"
        }
      }
    },
    {
      "cell_type": "code",
      "source": [
        "#POMCP evaluation\n",
        "using ParticleFilters\n",
        "filter = SIRParticleFilter(pomdp, 2000)\n",
        "tr = 0\n",
        "for iter = 1:10\n",
        "  i = 0\n",
        "  rwe = 0\n",
        "\n",
        "for (s,a,r,sp,o,b) in stepthrough(pomdp, planner, filter, \"s,a,r,sp,o,b\")\n",
        "    #@show (s,a,r,sp,o)\n",
        "  #println(mean(b))\n",
        "    rwe+=r\n",
        "    i+=1\n",
        "  if i == 30\n",
        "    break\n",
        "  end\n",
        "end\n",
        "  println(rwe)\n",
        "   tr += rwe\n",
        "end\n",
        "println(\"Average: \")\n",
        "  println(tr/10)"
      ],
      "outputs": [
        {
          "output_type": "stream",
          "name": "stdout",
          "text": [
            "3510\n",
            "1645\n",
            "2175\n",
            "1355\n",
            "1495\n",
            "1400\n",
            "2445\n",
            "3530\n",
            "3010\n",
            "4525\n",
            "Average: \n",
            "2509.0\n"
          ]
        }
      ],
      "execution_count": 21,
      "metadata": {
        "collapsed": true,
        "jupyter": {
          "source_hidden": false,
          "outputs_hidden": false
        },
        "nteract": {
          "transient": {
            "deleting": false
          }
        },
        "execution": {
          "iopub.status.busy": "2020-12-08T21:04:39.797Z",
          "iopub.execute_input": "2020-12-08T21:04:39.805Z",
          "iopub.status.idle": "2020-12-08T21:51:34.280Z"
        }
      }
    }
  ],
  "metadata": {
    "kernel_info": {
      "name": "julia-1.5"
    },
    "language_info": {
      "file_extension": ".jl",
      "name": "julia",
      "mimetype": "application/julia",
      "version": "1.5.2"
    },
    "kernelspec": {
      "argv": [
        "C:\\Users\\Leo Schirokauer\\AppData\\Local\\Programs\\Julia 1.5.2\\bin\\julia.exe",
        "-i",
        "--color=yes",
        "--project=@.",
        "C:\\Users\\Leo Schirokauer\\.julia\\packages\\IJulia\\IDNmS\\src\\kernel.jl",
        "{connection_file}"
      ],
      "display_name": "Julia 1.5.2",
      "env": {},
      "interrupt_mode": "message",
      "language": "julia",
      "name": "julia-1.5"
    },
    "nteract": {
      "version": "0.26.0"
    }
  },
  "nbformat": 4,
  "nbformat_minor": 0
}